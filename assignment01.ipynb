{
  "nbformat": 4,
  "nbformat_minor": 0,
  "metadata": {
    "colab": {
      "provenance": []
    },
    "kernelspec": {
      "name": "python3",
      "display_name": "Python 3"
    },
    "language_info": {
      "name": "python"
    }
  },
  "cells": [
    {
      "cell_type": "markdown",
      "source": [
        "##PROBLEM 1"
      ],
      "metadata": {
        "id": "AE0DRkugX5bY"
      }
    },
    {
      "cell_type": "code",
      "execution_count": 1,
      "metadata": {
        "id": "0CCqq9rWKXiV"
      },
      "outputs": [],
      "source": [
        "import numpy as np"
      ]
    },
    {
      "cell_type": "code",
      "source": [
        "random_array=np.random.randint(2,100 , size=(5,5))\n",
        "print(random_array)\n",
        "random_array.shape[1]"
      ],
      "metadata": {
        "colab": {
          "base_uri": "https://localhost:8080/"
        },
        "id": "vS-rjJT-KjVc",
        "outputId": "95646833-a8a6-4ece-a631-8961f718439a"
      },
      "execution_count": 28,
      "outputs": [
        {
          "output_type": "stream",
          "name": "stdout",
          "text": [
            "[[15 53 35 45 11]\n",
            " [54 38 97 89 77]\n",
            " [ 8 23 47 84 11]\n",
            " [24 93 59 18 16]\n",
            " [47 10 44 66 56]]\n"
          ]
        },
        {
          "output_type": "execute_result",
          "data": {
            "text/plain": [
              "5"
            ]
          },
          "metadata": {},
          "execution_count": 28
        }
      ]
    },
    {
      "cell_type": "code",
      "source": [
        "# middle element of the randomomly generated 5*5 array\n",
        "middle_element=random_array[2][2]\n",
        "print(middle_element)"
      ],
      "metadata": {
        "colab": {
          "base_uri": "https://localhost:8080/"
        },
        "id": "6-do9HIPNdhB",
        "outputId": "a65854c8-0986-4604-cd0a-9e7587ff0cf6"
      },
      "execution_count": 9,
      "outputs": [
        {
          "output_type": "stream",
          "name": "stdout",
          "text": [
            "80\n"
          ]
        }
      ]
    },
    {
      "cell_type": "code",
      "source": [
        "# mean of each row\n",
        "\n",
        "mean00=np.mean(random_array[0])\n",
        "mean01=np.mean(random_array[1])\n",
        "mean02=np.mean(random_array[2])\n",
        "mean03=np.mean(random_array[3])\n",
        "mean04=np.mean(random_array[4])"
      ],
      "metadata": {
        "id": "Ka3V_HU-OguB"
      },
      "execution_count": 13,
      "outputs": []
    },
    {
      "cell_type": "code",
      "source": [
        "# overall mean of the array\n",
        "\n",
        "total_mean=np.mean(random_array)\n",
        "total_mean"
      ],
      "metadata": {
        "colab": {
          "base_uri": "https://localhost:8080/"
        },
        "id": "8DxiSOYsPBPS",
        "outputId": "e85178bf-fb58-4223-eee3-616f6cb4e462"
      },
      "execution_count": 15,
      "outputs": [
        {
          "output_type": "execute_result",
          "data": {
            "text/plain": [
              "49.8"
            ]
          },
          "metadata": {},
          "execution_count": 15
        }
      ]
    },
    {
      "cell_type": "code",
      "source": [
        "# new array with elements greater than the overall mean of the random_array\n",
        "new_array=random_array[random_array>total_mean]\n",
        "new_array"
      ],
      "metadata": {
        "colab": {
          "base_uri": "https://localhost:8080/"
        },
        "id": "4v0o3XJ6P5O3",
        "outputId": "71971e51-edd6-4cdd-aff7-618a821c71d9"
      },
      "execution_count": 18,
      "outputs": [
        {
          "output_type": "execute_result",
          "data": {
            "text/plain": [
              "array([57, 58, 61, 97, 74, 54, 52, 76, 80, 61, 80, 93, 90])"
            ]
          },
          "metadata": {},
          "execution_count": 18
        }
      ]
    },
    {
      "cell_type": "markdown",
      "source": [
        "![spiral1.jpg](data:image/jpeg;base64,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)"
      ],
      "metadata": {
        "id": "mL3YDULUTQjf"
      }
    },
    {
      "cell_type": "code",
      "source": [
        "def numpy_spiral_order(matrix):\n",
        "  ans=[] # creating list that we want to return\n",
        "  # initilizing indexes\n",
        "  sr= 0                 # starting row\n",
        "  er=matrix.shape[0]-1  # ending row\n",
        "  sc=0                  # starting colomn\n",
        "  ec=matrix.shape[1]-1  # ending colomn\n",
        "  while sr<=er and sc<=ec:\n",
        "\n",
        "    for col in range(sc,ec+1):\n",
        "      ans.append(matrix[sr][col])\n",
        "    sr+=1\n",
        "\n",
        "    for row in range(sr,er+1):\n",
        "      ans.append(matrix[row][ec])\n",
        "    ec-=1\n",
        "\n",
        "    for col in range(ec,sc-1,-1):\n",
        "      ans.append(matrix[er][col])\n",
        "    er-=1\n",
        "\n",
        "    for row in range(er,sr-1,-1):\n",
        "      ans.append(matrix[row][sc])\n",
        "    sc+=1\n",
        "\n",
        "  return ans"
      ],
      "metadata": {
        "id": "oMjubSEZQ9Ny"
      },
      "execution_count": 26,
      "outputs": []
    },
    {
      "cell_type": "code",
      "source": [
        "spiral_list=numpy_spiral_order(random_array)\n",
        "print(\"Spiral list:\", spiral_list)"
      ],
      "metadata": {
        "colab": {
          "base_uri": "https://localhost:8080/"
        },
        "id": "paxLrk0QTJT2",
        "outputId": "e0992a93-6dc8-4548-e91f-bdffba6844c3"
      },
      "execution_count": 29,
      "outputs": [
        {
          "output_type": "stream",
          "name": "stdout",
          "text": [
            "Spiral list: [15, 53, 35, 45, 11, 77, 11, 16, 56, 66, 44, 10, 47, 24, 8, 54, 38, 97, 89, 84, 18, 59, 93, 23, 47]\n"
          ]
        }
      ]
    },
    {
      "cell_type": "markdown",
      "source": [
        "##PROBLEM 2"
      ],
      "metadata": {
        "id": "0RwvfF6nYBQt"
      }
    },
    {
      "cell_type": "code",
      "source": [
        "import csv\n",
        "import json\n",
        "import os\n",
        "from datetime import datetime\n",
        "import matplotlib.pyplot as plt\n",
        "\n",
        "# File paths\n",
        "CSV_FILE = \"expenses.csv\"\n",
        "\n",
        "# Define categories\n",
        "CATEGORIES = [\"Food\", \"Transportation\", \"Entertainment\", \"Utilities\", \"Others\"]\n",
        "\n",
        "# Ensure the file exists\n",
        "def initialize_csv():\n",
        "    if not os.path.exists(CSV_FILE):\n",
        "        with open(CSV_FILE, mode='w', newline='') as file:\n",
        "            writer = csv.writer(file)\n",
        "            writer.writerow([\"Date\", \"Category\", \"Amount\", \"Description\"])\n",
        "\n",
        "# Add expense\n",
        "def add_expense(date, category, amount, description=\"\"):\n",
        "    if category not in CATEGORIES:\n",
        "        print(\"Invalid category. Please choose from:\", \", \".join(CATEGORIES))\n",
        "        return\n",
        "\n",
        "    with open(CSV_FILE, mode='a', newline='') as file:\n",
        "        writer = csv.writer(file)\n",
        "        writer.writerow([date, category, amount, description])\n",
        "\n",
        "    print(\"Expense added successfully.\")\n",
        "\n",
        "# View all expenses\n",
        "def view_expenses():\n",
        "    if not os.path.exists(CSV_FILE):\n",
        "        print(\"No expenses recorded yet.\")\n",
        "        return\n",
        "\n",
        "    with open(CSV_FILE, mode='r') as file:\n",
        "        reader = csv.reader(file)\n",
        "        for row in reader:\n",
        "            print(row)\n",
        "\n",
        "# Generate summary\n",
        "def generate_summary():\n",
        "    if not os.path.exists(CSV_FILE):\n",
        "        print(\"No expenses recorded yet.\")\n",
        "        return\n",
        "\n",
        "    summary = {category: 0 for category in CATEGORIES}\n",
        "\n",
        "    with open(CSV_FILE, mode='r') as file:\n",
        "        reader = csv.DictReader(file)\n",
        "        for row in reader:\n",
        "            summary[row[\"Category\"]] += float(row[\"Amount\"])\n",
        "\n",
        "    print(\"\\nExpense Summary:\")\n",
        "    for category, total in summary.items():\n",
        "        print(f\"{category}: ${total:.2f}\")\n",
        "\n",
        "# Visualize spending\n",
        "def visualize_spending():\n",
        "    if not os.path.exists(CSV_FILE):\n",
        "        print(\"No expenses recorded yet.\")\n",
        "        return\n",
        "\n",
        "    summary = {category: 0 for category in CATEGORIES}\n",
        "\n",
        "    with open(CSV_FILE, mode='r') as file:\n",
        "        reader = csv.DictReader(file)\n",
        "        for row in reader:\n",
        "            summary[row[\"Category\"]] += float(row[\"Amount\"])\n",
        "\n",
        "    labels = list(summary.keys())\n",
        "    sizes = list(summary.values())\n",
        "\n",
        "    plt.figure(figsize=(8, 6))\n",
        "    plt.pie(sizes, labels=labels, autopct=\"%1.1f%%\", startangle=140)\n",
        "    plt.title(\"Spending by Category\")\n",
        "    plt.show()\n",
        "\n",
        "# Main menu\n",
        "def main():\n",
        "    initialize_csv()\n",
        "    while True:\n",
        "        print(\"\\nExpense Tracker\")\n",
        "        print(\"1. Add Expense\")\n",
        "        print(\"2. View Expenses\")\n",
        "        print(\"3. Generate Summary\")\n",
        "        print(\"4. Visualize Spending\")\n",
        "        print(\"5. Exit\")\n",
        "\n",
        "        choice = input(\"Choose an option: \")\n",
        "\n",
        "        if choice == \"1\":\n",
        "            date = input(\"Enter date (YYYY-MM-DD): \")\n",
        "            category = input(f\"Enter category ({', '.join(CATEGORIES)}): \")\n",
        "            amount = float(input(\"Enter amount: \"))\n",
        "            description = input(\"Enter description (optional): \")\n",
        "            add_expense(date, category, amount, description)\n",
        "        elif choice == \"2\":\n",
        "            view_expenses()\n",
        "        elif choice == \"3\":\n",
        "            generate_summary()\n",
        "        elif choice == \"4\":\n",
        "            visualize_spending()\n",
        "        elif choice == \"5\":\n",
        "            print(\"Goodbye!\")\n",
        "            break\n",
        "        else:\n",
        "            print(\"Invalid choice. Please try again.\")\n",
        "\n",
        "if __name__ == \"__main__\":\n",
        "    main()\n"
      ],
      "metadata": {
        "colab": {
          "base_uri": "https://localhost:8080/"
        },
        "id": "_lXwmiZfYDiD",
        "outputId": "404b3209-b435-4ad1-8ff7-728dfa7c3304"
      },
      "execution_count": null,
      "outputs": [
        {
          "output_type": "stream",
          "name": "stdout",
          "text": [
            "\n",
            "Expense Tracker\n",
            "1. Add Expense\n",
            "2. View Expenses\n",
            "3. Generate Summary\n",
            "4. Visualize Spending\n",
            "5. Exit\n"
          ]
        }
      ]
    }
  ]
}